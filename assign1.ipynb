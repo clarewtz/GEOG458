{
 "cells": [
  {
   "cell_type": "code",
   "execution_count": 24,
   "metadata": {
    "collapsed": false
   },
   "outputs": [
    {
     "name": "stdout",
     "output_type": "stream",
     "text": [
      "OID\n",
      "CountyName\n",
      "FIPSCounty\n"
     ]
    }
   ],
   "source": [
    "import sys\n",
    "sys.path.append('C:\\\\Program Files (x86)\\\\ArcGIS\\\\Desktop10.4\\\\bin')\n",
    "sys.path.append('C:\\\\Program Files (x86)\\\\ArcGIS\\\\Desktop10.4\\\\arcpy')\n",
    "sys.path.append('C:\\\\Program Files (x86)\\\\ArcGIS\\\\Desktop10.4\\\\ArcToolbox\\\\Scripts')\n",
    "import arcpy \n",
    "\n",
    "arcpy.env.overwriteOutput = True\n",
    "from subprocess import call\n",
    "import os\n",
    "\n",
    "\n",
    "os.environ[\"GDAL_DATA\"] = \"C:\\\\OSGeo4W64\\\\share\\\\gdal\"\n",
    "os.environ[\"GDAL_DRIVER_PATH\"] = \"C:\\\\OSGeo4W64\\\\bin\\\\gdalplugins\"\n",
    "os.environ[\"PROJ_LIB\"] = \"C:\\\\OSGeo4W64\\\\share\\\\proj\"\n",
    "os.environ[\"PATH\"] = \"C:\\\\OSGeo4W64\\\\bin;\"+os.environ[\"PATH\"]+\";C:\\\\OSGeo4W64\\\\apps\\\\msys\\\\bin;C:\\\\OSGeo4W64\\\\apps\\\\Python27\\\\Scripts\"\n",
    "\n",
    "\n",
    "arcpy.env.workspace = \"C:\\\\Users\\\\wangtz\\\\Downloads\\\\saep_bg10\"\n",
    "# print Exists('saep_bg10.shp')\n",
    "# des = Describe('C:\\Users\\wangtz\\Documents\\458\\Assgin1\\saep_bg10\\saep_bg10.shp')\n",
    "# print des\n",
    "\n",
    "# see fields in shapefile\n",
    "# t3 = \"C:\\\\Users\\\\wangtz\\\\Downloads\\\\saep_bg10\\\\saep_bg10.shp\"\n",
    "# fields = arcpy.ListFields(t3)\n",
    "# for field in fields:\n",
    "#      print field.name\n",
    "    \n",
    "# bgrows = SearchCursor(bg)\n",
    "# for row in bgrows:\n",
    "#     print row.getValue(\"COUNTYFP10\")\n",
    "    \n",
    "cty = \"C:\\Users\\wangtz\\Downloads\\WashingtonFIPS.dbf\"\n",
    "bg = \"C:\\\\Users\\\\wangtz\\\\Downloads\\\\saep_bg10\\\\saep_bg10.shp\"\n",
    "    \n",
    "cols = arcpy.ListFields(cty)\n",
    "for col in cols:\n",
    "     print col.name\n",
    "\n",
    "\n",
    "# for row in ctyrows:\n",
    "#     print (\"CountyName: {}, FIPSCounty: {} \").format(\n",
    "#         row.getValue(\"CountyName\"),\n",
    "#         row.getValue(\"FIPSCounty\"),)\n",
    "\n",
    "\n",
    "# for row in bgrows:\n",
    "#     print row.getValue(\"COUNTYFP10\")\n"
   ]
  },
  {
   "cell_type": "code",
   "execution_count": 25,
   "metadata": {
    "collapsed": false
   },
   "outputs": [
    {
     "name": "stdout",
     "output_type": "stream",
     "text": [
      "\"COUNTYFP10\" = '001'\n",
      "\"COUNTYFP10\" = '003'\n",
      "\"COUNTYFP10\" = '005'\n",
      "\"COUNTYFP10\" = '007'\n",
      "\"COUNTYFP10\" = '009'\n",
      "\"COUNTYFP10\" = '011'\n",
      "\"COUNTYFP10\" = '013'\n",
      "\"COUNTYFP10\" = '015'\n",
      "\"COUNTYFP10\" = '017'\n",
      "\"COUNTYFP10\" = '019'\n",
      "\"COUNTYFP10\" = '021'\n",
      "\"COUNTYFP10\" = '023'\n",
      "\"COUNTYFP10\" = '025'\n",
      "\"COUNTYFP10\" = '027'\n",
      "\"COUNTYFP10\" = '029'\n",
      "\"COUNTYFP10\" = '031'\n",
      "\"COUNTYFP10\" = '033'\n",
      "\"COUNTYFP10\" = '035'\n",
      "\"COUNTYFP10\" = '037'\n",
      "\"COUNTYFP10\" = '039'\n",
      "\"COUNTYFP10\" = '041'\n",
      "\"COUNTYFP10\" = '043'\n",
      "\"COUNTYFP10\" = '045'\n",
      "\"COUNTYFP10\" = '047'\n",
      "\"COUNTYFP10\" = '049'\n",
      "\"COUNTYFP10\" = '051'\n",
      "\"COUNTYFP10\" = '053'\n",
      "\"COUNTYFP10\" = '055'\n",
      "\"COUNTYFP10\" = '057'\n",
      "\"COUNTYFP10\" = '059'\n",
      "\"COUNTYFP10\" = '061'\n",
      "\"COUNTYFP10\" = '063'\n",
      "\"COUNTYFP10\" = '065'\n",
      "\"COUNTYFP10\" = '067'\n",
      "\"COUNTYFP10\" = '069'\n",
      "\"COUNTYFP10\" = '071'\n",
      "\"COUNTYFP10\" = '073'\n",
      "\"COUNTYFP10\" = '075'\n",
      "\"COUNTYFP10\" = '077'\n"
     ]
    }
   ],
   "source": [
    "# see fields in dbf\n",
    "cty = \"C:\\\\Users\\\\wangtz\\\\Downloads\\\\WashingtonFIPS.dbf\"\n",
    "bg = \"C:\\\\Users\\\\wangtz\\\\Downloads\\\\saep_bg10\\\\saep_bg10.shp\"\n",
    "\n",
    "ctyrows = arcpy.SearchCursor(cty)\n",
    "bgrows = arcpy.SearchCursor(bg)\n",
    "\n",
    "for county in ctyrows:\n",
    "    county_fip = county.getValue(\"FIPSCounty\")\n",
    "    output_name = county.getValue(\"CountyName\")  #shapefile name\n",
    "    countyname = county.getValue(\"CountyName\") + '01'  #layer\n",
    "    arcpy.MakeFeatureLayer_management(bg, countyname)      \n",
    "    # print county_fip\n",
    "    f2 = arcpy.AddFieldDelimiters(countyname, \"COUNTYFP10\")\n",
    "    query = \"{} = '{}'\".format(f2, county_fip)\n",
    "    print query\n",
    "    arcpy.SelectLayerByAttribute_management(countyname, \"NEW_SELECTION\", query)\n",
    "    arcpy.CopyFeatures_management(countyname, \"{}.shp\".format(output_name))\n",
    "    \n",
    "    call(['C:\\\\OSGeo4W64\\\\bin\\\\ogr2ogr',\n",
    "      '-f','GeoJSON','-t_srs','WGS84',\n",
    "      '-s_srs','EPSG:26913',\n",
    "      'C:\\\\Users\\\\wangtz\\\\Documents\\\\test2\\\\{}.geojson'.format(output_name),\n",
    "      'C:\\\\Users\\\\wangtz\\\\Downloads\\\\saep_bg10\\\\{}.shp'.format(output_name)])\n",
    "    \n"
   ]
  },
  {
   "cell_type": "code",
   "execution_count": null,
   "metadata": {
    "collapsed": true
   },
   "outputs": [],
   "source": []
  }
 ],
 "metadata": {
  "kernelspec": {
   "display_name": "Python 2",
   "language": "python",
   "name": "python2"
  },
  "language_info": {
   "codemirror_mode": {
    "name": "ipython",
    "version": 2
   },
   "file_extension": ".py",
   "mimetype": "text/x-python",
   "name": "python",
   "nbconvert_exporter": "python",
   "pygments_lexer": "ipython2",
   "version": "2.7.11"
  }
 },
 "nbformat": 4,
 "nbformat_minor": 0
}
