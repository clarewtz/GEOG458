{
 "cells": [
  {
   "cell_type": "markdown",
   "metadata": {},
   "source": [
    "Assignment 1. First ArcPy Lab\n",
    "\n",
    "Tianzhe Wang\n"
   ]
  },
  {
   "cell_type": "code",
   "execution_count": 18,
   "metadata": {
    "collapsed": false
   },
   "outputs": [],
   "source": [
    "import sys\n",
    "sys.path.append('C:\\\\Program Files (x86)\\\\ArcGIS\\\\Desktop10.3\\\\bin')\n",
    "sys.path.append('C:\\\\Program Files (x86)\\\\ArcGIS\\\\Desktop10.3\\\\arcpy')\n",
    "sys.path.append('C:\\\\Program Files (x86)\\\\ArcGIS\\\\Desktop10.3\\\\ArcToolbox\\\\Scripts')\n",
    "import arcpy \n",
    "from operator import itemgetter  # for sorting list of dictionaries\n",
    "\n",
    "arcpy.env.overwriteOutput = True\n",
    "from subprocess import call\n",
    "import os\n",
    "\n",
    "os.environ[\"GDAL_DATA\"] = \"C:\\\\OSGeo4W64\\\\share\\\\gdal\"\n",
    "os.environ[\"GDAL_DRIVER_PATH\"] = \"C:\\\\OSGeo4W64\\\\bin\\\\gdalplugins\"\n",
    "os.environ[\"PROJ_LIB\"] = \"C:\\\\OSGeo4W64\\\\share\\\\proj\"\n",
    "os.environ[\"PATH\"] = \"C:\\\\OSGeo4W64\\\\bin;\"+os.environ[\"PATH\"]+\";C:\\\\OSGeo4W64\\\\apps\\\\msys\\\\bin;C:\\\\OSGeo4W64\\\\apps\\\\Python27\\\\Scripts\"\n",
    "\n",
    "arcpy.env.workspace = \"C:\\\\Users\\\\wangtz\\\\Documents\\\\458\\\\Assgin1\\\\workspace\"\n",
    "cty = \"C:\\\\Users\\\\wangtz\\\\Documents\\\\458\\\\Assgin1\\\\WashingtonFIPS.dbf\"\n",
    "bg = \"C:\\\\Users\\\\wangtz\\\\Documents\\\\458\\\\Assgin1\\\\saep_bg10\\\\saep_bg10.shp\"\n"
   ]
  },
  {
   "cell_type": "markdown",
   "metadata": {},
   "source": [
    "The script below is for printing shapefile content."
   ]
  },
  {
   "cell_type": "code",
   "execution_count": 19,
   "metadata": {
    "collapsed": true
   },
   "outputs": [],
   "source": [
    "# print Exists('saep_bg10.shp')\n",
    "# des = Describe('C:\\Users\\wangtz\\Documents\\458\\Assgin1\\saep_bg10\\saep_bg10.shp')\n",
    "# print des\n",
    "\n",
    "# see fields in shapefile\n",
    "# t3 = \"C:\\\\Users\\\\wangtz\\\\Downloads\\\\saep_bg10\\\\saep_bg10.shp\"\n",
    "# fields = arcpy.ListFields(t3)\n",
    "# for field in fields:\n",
    "#      print field.name\n",
    "    \n",
    "# bgrows = SearchCursor(bg)\n",
    "# for row in bgrows:\n",
    "#     print row.getValue(\"COUNTYFP10\")\n",
    "    \n",
    "# cols = arcpy.ListFields(bg)\n",
    "# for col in cols:\n",
    "#      print col.name\n",
    "\n",
    "# for row in ctyrows:\n",
    "#     print (\"CountyName: {}, FIPSCounty: {} \").format(\n",
    "#         row.getValue(\"CountyName\"),\n",
    "#         row.getValue(\"FIPSCounty\"),)\n",
    "\n",
    "# for row in bgrows:\n",
    "#     print row.getValue(\"COUNTYFP10\")"
   ]
  },
  {
   "cell_type": "markdown",
   "metadata": {},
   "source": [
    "Task 1\n",
    "For each county in Washington, create a GeoJSON file whose filename is the county name and whose contents are the polygons for the block groups within that county.\n",
    "\n",
    "To select block groups by counties, I used the approach of 'select by attribute', which is the arcpy.SelectLayerByAttribute_management() function. \n",
    "\n",
    "Within the shapefile of each county, I aggregated the population of 2016, and store the county name and population in dictionaries. Finally I stored the dictionaries in a list. "
   ]
  },
  {
   "cell_type": "code",
   "execution_count": 20,
   "metadata": {
    "collapsed": false
   },
   "outputs": [],
   "source": [
    "# see fields in dbf\n",
    "cty = \"C:\\Users\\wangtz\\\\Documents\\\\458\\\\Assgin1\\\\WashingtonFIPS.dbf\"\n",
    "bg = \"C:\\\\Users\\\\wangtz\\\\Documents\\\\458\\\\Assgin1\\\\saep_bg10\\\\saep_bg10.shp\"\n",
    "\n",
    "ctyrows = arcpy.SearchCursor(cty)\n",
    "bgrows = arcpy.SearchCursor(bg)\n",
    "\n",
    "population = [] \n",
    "\n",
    "# select block groups for each county\n",
    "for county in ctyrows:\n",
    "    county_fip = county.getValue(\"FIPSCounty\")\n",
    "    output_name = county.getValue(\"CountyName\")   #shapefile name\n",
    "    countyname = county.getValue(\"CountyName\") + '01'  #layer\n",
    "    arcpy.MakeFeatureLayer_management(bg, countyname)      \n",
    "    # print county_fip\n",
    "    f2 = arcpy.AddFieldDelimiters(countyname, \"COUNTYFP10\") # to make the string fit for query\n",
    "    query = \"{} = '{}'\".format(f2, county_fip)\n",
    "    # print query\n",
    "    arcpy.SelectLayerByAttribute_management(countyname, \"NEW_SELECTION\", query)\n",
    "    arcpy.CopyFeatures_management(countyname, \"{}.shp\".format(output_name))\n",
    "    \n",
    "    call(['C:\\\\OSGeo4W64\\\\bin\\\\ogr2ogr',\n",
    "      '-f','GeoJSON','-t_srs','WGS84',\n",
    "      '-s_srs','EPSG:2927',\n",
    "      'C:\\\\Users\\\\wangtz\\\\Documents\\\\458\\\\Assgin1\\\\test\\\\{}.geojson'.format(output_name),\n",
    "      'C:\\\\Users\\\\wangtz\\\\Documents\\\\458\\\\Assgin1\\\\workspace\\\\{}.shp'.format(output_name)]) # in seperate folder\n",
    "    \n",
    "    # county population\n",
    "    pop = 0\n",
    "    bg2 = 'C:\\\\Users\\\\wangtz\\\\Documents\\\\458\\\\Assgin1\\\\workspace\\\\{}.shp'.format(output_name)\n",
    "    bg2rows = arcpy.SearchCursor(bg2)\n",
    "    for bg_single in bg2rows:\n",
    "        pop += bg_single.getValue(\"POP2016\")\n",
    "    d= {'county population':int(pop),'county name':output_name} # each dictionary has the county name and county population\n",
    "    population.append(d)\n"
   ]
  },
  {
   "cell_type": "markdown",
   "metadata": {},
   "source": [
    "Task 2\n",
    "Prints out a ranked list, in descending order, of the ten largest total populations in 2016 of counties in Washington, according to this dataset.\n"
   ]
  },
  {
   "cell_type": "code",
   "execution_count": 21,
   "metadata": {
    "collapsed": false
   },
   "outputs": [
    {
     "name": "stdout",
     "output_type": "stream",
     "text": [
      "King County, population: 2105099\n",
      "Pierce County, population: 844489\n",
      "Snohomish County, population: 772860\n",
      "Spokane County, population: 492530\n",
      "Clark County, population: 461010\n",
      "Thurston County, population: 272690\n",
      "Kitsap County, population: 262589\n",
      "Yakima County, population: 250899\n",
      "Whatcom County, population: 212540\n",
      "Benton County, population: 190500\n"
     ]
    }
   ],
   "source": [
    "# create a sorted list in descending order, based on the population value\n",
    "temp = sorted(population, key=itemgetter('county population'), reverse=True)\n",
    "\n",
    "# print out 10 largest total populations in 2016 of counties in Washington\n",
    "for i in temp[0:10:1]:\n",
    "    print '{} County, population: {}'.format(i['county name'],i['county population'])"
   ]
  },
  {
   "cell_type": "markdown",
   "metadata": {},
   "source": [
    "Notes:\n",
    "1. I used ArcMap 10.3 from department lab, it turns out that arcpy.da.SearchCursor cannot be executed on lab machines. So I still use arcpy.SearchCursor in the file.\n",
    "\n",
    "2. When converting coordinate system of each county, I found all of them are in \"1983_HARN_StatePlane_Washington_South_FIPS_4602_Feet\". It might not be so precise for counties in north washington as those in south of state. "
   ]
  }
 ],
 "metadata": {
  "anaconda-cloud": {},
  "kernelspec": {
   "display_name": "Python [conda root]",
   "language": "python",
   "name": "conda-root-py"
  },
  "language_info": {
   "codemirror_mode": {
    "name": "ipython",
    "version": 2
   },
   "file_extension": ".py",
   "mimetype": "text/x-python",
   "name": "python",
   "nbconvert_exporter": "python",
   "pygments_lexer": "ipython2",
   "version": "2.7.12"
  }
 },
 "nbformat": 4,
 "nbformat_minor": 1
}
