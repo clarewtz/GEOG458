{
 "cells": [
  {
   "cell_type": "markdown",
   "metadata": {},
   "source": [
    "Tianzhe Wang\n",
    "\n",
    "By 20% decreases in the threshold between urban and rural:\n",
    "block groups that have a population density of at least 800 people per square mile"
   ]
  },
  {
   "cell_type": "code",
   "execution_count": 2,
   "metadata": {
    "collapsed": false
   },
   "outputs": [
    {
     "data": {
      "text/plain": [
       "<Result 'C:\\\\Users\\\\wangtz\\\\Documents\\\\458\\\\1_25_inClass\\\\individual\\\\saep_bg10.shp'>"
      ]
     },
     "execution_count": 2,
     "metadata": {},
     "output_type": "execute_result"
    }
   ],
   "source": [
    "import sys\n",
    "sys.path.append('C:\\\\Program Files (x86)\\\\ArcGIS\\\\Desktop10.3\\\\bin')\n",
    "sys.path.append('C:\\\\Program Files (x86)\\\\ArcGIS\\\\Desktop10.3\\\\arcpy')\n",
    "sys.path.append('C:\\\\Program Files (x86)\\\\ArcGIS\\\\Desktop10.3\\\\ArcToolbox\\\\Scripts')\n",
    "import arcpy \n",
    "import geopandas as gpd\n",
    "import matplotlib.pyplot as plt\n",
    "import numpy as np\n",
    "\n",
    "fc = \"C:\\\\Users\\\\wangtz\\\\Documents\\\\458\\\\1_25_inClass\\\\individual\\\\saep_bg10.shp\"\n",
    "\n",
    "arcpy.AddField_management(fc, \"Pop_Dens\",\"float\")   # 2016 population density\n",
    "arcpy.AddField_management(fc, \"Type\",\"text\")         # Type: urban/rural\n",
    "\n",
    "arcpy.AddField_management(fc, \"Tp16_v2\",\"text\")         # Type: urban/rural\n",
    "arcpy.AddField_management(fc, \"Chg06_v2\",\"text\")    # Change in category:urbanized, deurbanized, unchange\n"
   ]
  },
  {
   "cell_type": "markdown",
   "metadata": {},
   "source": [
    "This cell is to look through fields and data"
   ]
  },
  {
   "cell_type": "code",
   "execution_count": 7,
   "metadata": {
    "collapsed": false
   },
   "outputs": [],
   "source": [
    "# print \"Fields in the file: \" + fc\n",
    "# fieldlist = arcpy.ListFields(fc)\n",
    "# for curr_field in fieldlist:\n",
    "#     print curr_field.name\n",
    "    \n",
    "# bgrows = arcpy.SearchCursor(fc)\n",
    "# for row in bgrows:\n",
    "#     print row.getValue(\"Pop_Dens\")"
   ]
  },
  {
   "cell_type": "markdown",
   "metadata": {},
   "source": [
    "Variable sets and calculations:"
   ]
  },
  {
   "cell_type": "code",
   "execution_count": 3,
   "metadata": {
    "collapsed": false
   },
   "outputs": [],
   "source": [
    "# For 2016: Population density, Total urban/rual area, Total number of urban/rural block groups\n",
    "urbanCount_2016 = 0\n",
    "ruralCount_2016 = 0\n",
    "urbanPop_2016 = 0\n",
    "urbanLand_2016 = 0\n",
    "\n",
    "# Total population in both years, total number of block groups, total land area\n",
    "totalPop_2016 = 0\n",
    "totalBg = 0\n",
    "totalLand = 0\n",
    "\n",
    "# Use update cursor\n",
    "cursor = arcpy.da.UpdateCursor(fc,[\"Pop_Dens\", \"ALANDMI\", \"POP2016\", \"Type\"])\n",
    "\n",
    "for rows in cursor:\n",
    "    # filter out block groups of 0 sqmi. of land (all of which are water area)\n",
    "    if rows[1] == 0:\n",
    "        rows[0] = 0 \n",
    "    else:\n",
    "        rows[0] = rows[2] / rows[1]   # 2016 pop density\n",
    "    # classify urban area, 2016\n",
    "    if rows[0] >= 1000:\n",
    "        rows[3] = \"Urban\"\n",
    "        urbanCount_2016 += 1\n",
    "        urbanPop_2016 += rows[2]\n",
    "        urbanLand_2016 += rows[1]       \n",
    "    else:\n",
    "        rows[3] = \"Rural\"\n",
    "        ruralCount_2016 += 1\n",
    "        \n",
    "    totalBg += 1\n",
    "    totalLand += rows[1] \n",
    "    totalPop_2016 += rows[2]\n",
    "    \n",
    "    #print rows[3]    \n",
    "    cursor.updateRow(rows)\n",
    "    \n",
    "del cursor"
   ]
  },
  {
   "cell_type": "code",
   "execution_count": 4,
   "metadata": {
    "collapsed": true
   },
   "outputs": [],
   "source": [
    "# For 2016 - 800 people: Population density, Total urban/rual area, Total number of urban/rural block groups\n",
    "urbanCount_2016_v2 = 0\n",
    "ruralCount_2016_v2 = 0\n",
    "urbanPop_2016_v2 = 0\n",
    "urbanLand_2016_v2 = 0"
   ]
  },
  {
   "cell_type": "code",
   "execution_count": 5,
   "metadata": {
    "collapsed": false
   },
   "outputs": [],
   "source": [
    "cursor = arcpy.da.UpdateCursor(fc,[\"Pop_Dens\", \"ALANDMI\", \"POP2016\", \"Tp16_v2\"])\n",
    "\n",
    "for rows in cursor:\n",
    "    if rows[0] >= 800:\n",
    "        rows[3] = \"Urban\"\n",
    "        urbanCount_2016_v2 += 1\n",
    "        urbanPop_2016_v2 += rows[2]\n",
    "        urbanLand_2016_v2 += rows[1]       \n",
    "    else:\n",
    "        rows[3] = \"Rural\"\n",
    "        ruralCount_2016_v2 += 1  \n",
    "    #print rows[3]    \n",
    "    cursor.updateRow(rows)\n",
    "    \n",
    "del cursor"
   ]
  },
  {
   "cell_type": "code",
   "execution_count": 63,
   "metadata": {
    "collapsed": false
   },
   "outputs": [
    {
     "name": "stdout",
     "output_type": "stream",
     "text": [
      "Urban Area -  1000 peeple/sq mi\n",
      "In 2016, urban population is 5225246, which is 72.74% of state population.\n",
      "In 2016, urban land is 1491.117 sqmi, which is 2.24% of state area.\n",
      "Number of urban block groups is 3415\n",
      "Number of rural block groups 1368\n",
      "\n",
      "Urban Area -  800 peeple/sq mi\n",
      "In 2016, urban population is 5404828, which is 75.24% of state population.\n",
      "In 2016, urban land is 1691.567 sqmi, which is 2.55% of state area.\n",
      "Number of urban block groups is 3523\n",
      "Number of rural block groups 1260\n",
      "\n",
      "The numbers of urban block groups have increased by 3.16%\n",
      "Urban population of the state have increased by 3.44%\n"
     ]
    }
   ],
   "source": [
    "# Write code that calculates and prints out to the screen what percentage of the population\n",
    "# of the state is urbanized in 2016\n",
    "print 'Urban Area -  1000 peeple/sq mi'\n",
    "print 'In 2016, urban population is {}, which is {:.2%} of state population.'.format(int(urbanPop_2016), urbanPop_2016/totalPop_2016)\n",
    "print 'In 2016, urban land is {} sqmi, which is {:.2%} of state area.'.format(urbanLand_2016, urbanLand_2016/totalLand) \n",
    "print 'Number of urban block groups is {}'.format(urbanCount_2016) \n",
    "print 'Number of rural block groups {}'.format(ruralCount_2016)\n",
    "print ''\n",
    "\n",
    "print 'Urban Area -  800 peeple/sq mi'\n",
    "print 'In 2016, urban population is {}, which is {:.2%} of state population.'.format(int(urbanPop_2016_v2), urbanPop_2016_v2/totalPop_2016)\n",
    "print 'In 2016, urban land is {} sqmi, which is {:.2%} of state area.'.format(urbanLand_2016_v2, urbanLand_2016_v2/totalLand) \n",
    "print 'Number of urban block groups is {}'.format(urbanCount_2016_v2) \n",
    "print 'Number of rural block groups {}'.format(ruralCount_2016_v2)\n",
    "print ''\n",
    "\n",
    "pcNum = float(urbanCount_2016_v2) / urbanCount_2016 - 1\n",
    "pcPop = urbanPop_2016_v2/urbanPop_2016 - 1\n",
    "print 'The numbers of urban block groups have increased by {:.2%}'.format(pcNum)\n",
    "print 'Urban population of the state have increased by {:.2%}'.format(pcPop)\n"
   ]
  },
  {
   "cell_type": "code",
   "execution_count": 11,
   "metadata": {
    "collapsed": false
   },
   "outputs": [
    {
     "data": {
      "image/png": "[encoded data removed]",
      "text/plain": [
       "<matplotlib.figure.Figure at 0x1a8b46f0>"
      ]
     },
     "metadata": {},
     "output_type": "display_data"
    }
   ],
   "source": [
    "# a list of densities\n",
    "limit = 2100\n",
    "density = [i for i in range(0,limit,100)]\n",
    "# print density\n",
    "\n",
    "points = []\n",
    "percentage = []\n",
    "for d in density:\n",
    "    cursor = arcpy.da.SearchCursor(fc,[\"Pop_Dens\", \"POP2016\"])\n",
    "    urbanPop = 0\n",
    "    totalPop = 0\n",
    "    for rows in cursor:\n",
    "        if rows[0] >= d:\n",
    "            urbanPop += rows[1]  \n",
    "        totalPop += rows[1]\n",
    "    pct = round(urbanPop / totalPop, 2)\n",
    "    point = {d:pct}   \n",
    "    points.append(point)\n",
    "    percentage.append(point[d])\n",
    "# print points\n",
    "# print percentage\n",
    "\n",
    "plt.plot(density, percentage, linewidth=1.0)\n",
    "plt.axis([0, limit, 0.5, 1])\n",
    "plt.xlabel('Density threshold  (people/sqmi.)')\n",
    "plt.ylabel('Urban population of state  (%)')\n",
    "plt.title('Urban population percentage vs Density threshold')\n",
    "\n",
    "# This is to show point label seperatedly. \n",
    "# d1 = density[0::2]\n",
    "# p1 = percentage[0::2]\n",
    "# d2 = density[1::2]\n",
    "# p2 = percentage[1::2] \n",
    "# print d1, p1, d2, p2\n",
    "\n",
    "for xy in zip(density, percentage):                                       \n",
    "    plt.annotate('(%s, %s)' % xy, xy=xy, textcoords='data', fontsize=6)\n",
    "\n",
    "plt.show()\n"
   ]
  },
  {
   "cell_type": "markdown",
   "metadata": {},
   "source": [
    "As the density threshold increase, urban population percentages decrease very slowly. It indicates that a majority of poeple of WA state live in very high denisty areas. Even when the threshold is raised to 2000 people/sqmi, more than 60% of state population are still categorized as urban population. "
   ]
  }
 ],
 "metadata": {
  "anaconda-cloud": {},
  "kernelspec": {
   "display_name": "Python [conda root]",
   "language": "python",
   "name": "conda-root-py"
  },
  "language_info": {
   "codemirror_mode": {
    "name": "ipython",
    "version": 2
   },
   "file_extension": ".py",
   "mimetype": "text/x-python",
   "name": "python",
   "nbconvert_exporter": "python",
   "pygments_lexer": "ipython2",
   "version": "2.7.12"
  }
 },
 "nbformat": 4,
 "nbformat_minor": 1
}
